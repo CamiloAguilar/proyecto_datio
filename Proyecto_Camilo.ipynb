{
 "cells": [
  {
   "cell_type": "markdown",
   "metadata": {},
   "source": [
    "# Workshop de Python\n",
    "\n",
    "Cargamos datasets con información de admisiones a hospitales de enfermos de diabetes. El objetivo es, una vez limpiado el dataset, estudiarlo para extraer el máximo número de insights de los datos.\n",
    "\n",
    "## Cargar librerías"
   ]
  },
  {
   "cell_type": "code",
   "execution_count": null,
   "metadata": {},
   "outputs": [],
   "source": [
    "%matplotlib inline\n",
    "import pandas as pd\n",
    "import numpy as np\n",
    "import seaborn as sns\n",
    "import matplotlib.pyplot as plt\n",
    "import pandas_profiling"
   ]
  },
  {
   "cell_type": "markdown",
   "metadata": {},
   "source": [
    "## Lectura de datos\n",
    "- diabetic_data.csv\n",
    "- admission_source_id.csv\n",
    "- admission_type_id.csv\n",
    "- discharge_disposition_id.csv"
   ]
  },
  {
   "cell_type": "code",
   "execution_count": null,
   "metadata": {},
   "outputs": [],
   "source": [
    "admin_src_df = pd.read_csv('data/admission_source_id.csv', \n",
    "                           na_values=[\"Not Available\",\"None\",\"Unknown/Invalid\",\"Not Mapped\"])\n",
    "admin_type_df = pd.read_csv('data/admission_type_id.csv',\n",
    "                           na_values = [\"Not Available\",\"None\",\"Not Mapped\"])\n",
    "diabetic_df = pd.read_csv('data/diabetic_data.csv',\n",
    "                          na_values=[\"Not Available\",\"None\",\"Unknown/Invalid\",\"Not Mapped\",\"?\"])\n",
    "dschrge_disp_df = pd.read_csv('data/discharge_disposition_id.csv',\n",
    "                             na_values=[\"Not Available\",\"None\",\"Unknown/Invalid\",\"Not Mapped\"])\n",
    "#id_mapping_df = pd.read_csv('data/IDs_mapping.csv')    #Es la colección de todas las demás tabals de referencia"
   ]
  },
  {
   "cell_type": "code",
   "execution_count": null,
   "metadata": {},
   "outputs": [],
   "source": [
    "diabetic_df.head()"
   ]
  },
  {
   "cell_type": "code",
   "execution_count": null,
   "metadata": {},
   "outputs": [],
   "source": [
    "pandas_profiling.ProfileReport(diabetic_df)"
   ]
  },
  {
   "cell_type": "markdown",
   "metadata": {},
   "source": [
    "### comprobar correcta lectura de los datos\n",
    "Revisemos qué hay en cada uno de los dataframes"
   ]
  },
  {
   "cell_type": "code",
   "execution_count": null,
   "metadata": {
    "scrolled": true
   },
   "outputs": [],
   "source": [
    "#admin_src_df\n",
    "#admin_type_df\n",
    "dschrge_disp_df\n",
    "#diabetic_df.head()"
   ]
  },
  {
   "cell_type": "markdown",
   "metadata": {},
   "source": [
    "Asignemos los índices originales a los ficheros de las tabals de referencia para desnormalizar la tabla _diabetic_ _ _df_"
   ]
  },
  {
   "cell_type": "code",
   "execution_count": null,
   "metadata": {},
   "outputs": [],
   "source": [
    "admin_src_df.set_index(\"admission_source_id\", inplace = True)\n",
    "admin_type_df.set_index(\"admission_type_id\", inplace = True)\n",
    "dschrge_disp_df.set_index(\"discharge_disposition_id\", inplace = True)"
   ]
  },
  {
   "cell_type": "markdown",
   "metadata": {},
   "source": [
    "Cambiemos el nombre de las descripciones de las tablas de referencia"
   ]
  },
  {
   "cell_type": "code",
   "execution_count": null,
   "metadata": {},
   "outputs": [],
   "source": [
    "admin_src_df.rename(columns={\"description\":\"admin_src_desc\"}, inplace = True)\n",
    "admin_type_df.rename(columns={\"description\":\"admin_type_desc\"}, inplace = True)\n",
    "dschrge_disp_df.rename(columns={\"description\":\"dschrge_disp_desc\"}, inplace = True)"
   ]
  },
  {
   "cell_type": "markdown",
   "metadata": {},
   "source": [
    "### juntar todos los datos en el mismo DataFrame\n",
    "\n",
    "Ahora sí ejecutemos los joins. Verifiquemos que si las relaciones son en efecto uno a uno"
   ]
  },
  {
   "cell_type": "code",
   "execution_count": null,
   "metadata": {},
   "outputs": [],
   "source": [
    "print(diabetic_df.join(admin_src_df,how=\"left\", on = \"admission_source_id\").shape)\n",
    "print(diabetic_df.join(admin_type_df,how=\"left\", on = \"admission_type_id\").shape)\n",
    "print(diabetic_df.join(dschrge_disp_df,how=\"left\", on = \"discharge_disposition_id\").shape)\n",
    "print(diabetic_df.shape)"
   ]
  },
  {
   "cell_type": "code",
   "execution_count": null,
   "metadata": {},
   "outputs": [],
   "source": [
    "aug_diabetic_df = diabetic_df.join(admin_src_df,how=\"left\", on=\"admission_source_id\")\n",
    "aug_diabetic_df = aug_diabetic_df.join(admin_type_df,how=\"left\", on = \"admission_type_id\")\n",
    "aug_diabetic_df = aug_diabetic_df.join(dschrge_disp_df,how=\"left\", on = \"discharge_disposition_id\")"
   ]
  },
  {
   "cell_type": "markdown",
   "metadata": {},
   "source": [
    "Quitemos los id's que ya denormalizamos"
   ]
  },
  {
   "cell_type": "code",
   "execution_count": null,
   "metadata": {},
   "outputs": [],
   "source": [
    "aug_diabetic_df.drop(labels = [\"admission_type_id\",\"discharge_disposition_id\",\"admission_source_id\"], \n",
    "                     axis = 1, \n",
    "                     inplace = True)"
   ]
  },
  {
   "cell_type": "code",
   "execution_count": null,
   "metadata": {},
   "outputs": [],
   "source": [
    "aug_diabetic_df"
   ]
  },
  {
   "cell_type": "markdown",
   "metadata": {},
   "source": [
    "Ahora entendamos la información que tenemos en el _dataset_"
   ]
  },
  {
   "cell_type": "code",
   "execution_count": null,
   "metadata": {},
   "outputs": [],
   "source": [
    "aug_diabetic_df.set_index([\"patient_nbr\",\"encounter_id\"], inplace = True)"
   ]
  },
  {
   "cell_type": "markdown",
   "metadata": {},
   "source": [
    "## Data Wrangling"
   ]
  },
  {
   "cell_type": "markdown",
   "metadata": {},
   "source": [
    "### Cambiar los nombres de las columnas para que cumplan buenas prácticas\n"
   ]
  },
  {
   "cell_type": "code",
   "execution_count": null,
   "metadata": {},
   "outputs": [],
   "source": [
    "aug_diabetic_df.columns = aug_diabetic_df.columns.str.lower().str.strip(' ').str.replace(pat=\"-\",repl=\"_\")"
   ]
  },
  {
   "cell_type": "code",
   "execution_count": null,
   "metadata": {},
   "outputs": [],
   "source": [
    "aug_diabetic_df.rename(columns={\"diabetesmed\":\"diabetes_med\",\"a1cresult\":\"a1c_result\"},inplace=True)"
   ]
  },
  {
   "cell_type": "markdown",
   "metadata": {},
   "source": [
    "### Verifiquemos valores nulos de variables importantes"
   ]
  },
  {
   "cell_type": "markdown",
   "metadata": {},
   "source": [
    "Antes de revisar valores nulos mal codificados, verifiquemos el total de valores nulos ya identificados"
   ]
  },
  {
   "cell_type": "code",
   "execution_count": null,
   "metadata": {},
   "outputs": [],
   "source": [
    "aug_diabetic_df.isna().sum()/aug_diabetic_df.shape[0]"
   ]
  },
  {
   "cell_type": "markdown",
   "metadata": {},
   "source": [
    "Hasta el momento tenemos algunos _features_ con hasta 94 y 96% de valores nulos. Podríamos eliminarlos, pero como son _features_ importantes para este tipo de problema, el peso y el nivel máximo de glucosa, codifiquemos explícitamente el NA en las variables categóricas"
   ]
  },
  {
   "cell_type": "code",
   "execution_count": null,
   "metadata": {},
   "outputs": [],
   "source": [
    "aug_diabetic_df_cat_imp = aug_diabetic_df.select_dtypes(exclude=np.number).fillna(\"faltante\")"
   ]
  },
  {
   "cell_type": "code",
   "execution_count": null,
   "metadata": {},
   "outputs": [],
   "source": [
    "aug_diabetic_df_imp = aug_diabetic_df\n",
    "aug_diabetic_df_imp[aug_diabetic_df_cat_imp.columns] = aug_diabetic_df_cat_imp"
   ]
  },
  {
   "cell_type": "markdown",
   "metadata": {},
   "source": [
    "Dado que las variables numéricas no tienen outliers, por el momento podemos considerar que hemos terminado con nuestra imputación"
   ]
  },
  {
   "cell_type": "code",
   "execution_count": null,
   "metadata": {},
   "outputs": [],
   "source": [
    "aug_diabetic_df_imp.isna().sum()/aug_diabetic_df.shape[0]"
   ]
  },
  {
   "cell_type": "markdown",
   "metadata": {},
   "source": [
    "### estudiar los outliers"
   ]
  },
  {
   "cell_type": "code",
   "execution_count": null,
   "metadata": {},
   "outputs": [],
   "source": [
    "aug_diabetic_df.columns"
   ]
  },
  {
   "cell_type": "code",
   "execution_count": null,
   "metadata": {},
   "outputs": [],
   "source": []
  }
 ],
 "metadata": {
  "kernelspec": {
   "display_name": "PySpark (Spark 2.3.1)",
   "language": "python",
   "name": "pyspark"
  },
  "language_info": {
   "codemirror_mode": {
    "name": "ipython",
    "version": 3
   },
   "file_extension": ".py",
   "mimetype": "text/x-python",
   "name": "python",
   "nbconvert_exporter": "python",
   "pygments_lexer": "ipython3",
   "version": "3.6.4"
  }
 },
 "nbformat": 4,
 "nbformat_minor": 2
}
